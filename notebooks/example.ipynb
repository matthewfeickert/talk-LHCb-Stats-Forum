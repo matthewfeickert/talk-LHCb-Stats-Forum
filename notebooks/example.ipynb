{
 "cells": [
  {
   "cell_type": "markdown",
   "metadata": {},
   "source": [
    "# Example of pyhf interactions with likelihoods"
   ]
  },
  {
   "cell_type": "code",
   "execution_count": 1,
   "metadata": {},
   "outputs": [],
   "source": [
    "import pyhf\n",
    "import matplotlib.pyplot as plt"
   ]
  },
  {
   "cell_type": "code",
   "execution_count": 2,
   "metadata": {},
   "outputs": [],
   "source": [
    "# parse json"
   ]
  },
  {
   "cell_type": "markdown",
   "metadata": {},
   "source": [
    "From the parsed data, we construct a probability density function (p.d.f). As the model includes systematics a number of implied \"auxiliary measurements\" must be added to the observed data distribution."
   ]
  },
  {
   "cell_type": "code",
   "execution_count": null,
   "metadata": {},
   "outputs": [],
   "source": [
    "pdf = pyhf.Model({'channels': parsed['channels'], 'parameters': parsed['measurements'][0]['config']['parameters']}, poiname = 'SigXsecOverSM')\n",
    "data = obs_data + pdf.config.auxdata"
   ]
  },
  {
   "cell_type": "markdown",
   "metadata": {},
   "source": [
    "## Interval Estimation (Computing Upper Limits on µ)\n",
    "\n",
    "A common task in the statistical evaluation of High Energy Physics data analyses is the estimation of confidence intervals of parameters of interest. The general strategy is to perform a series of hypothesis tests and then *invert* the tests in order to obtain an interval with the correct coverage properties.\n",
    "\n",
    "A common figure of merit is a modified p-value, CLs. Here we compute an upper limit based on a series of CLs tests."
   ]
  },
  {
   "cell_type": "code",
   "execution_count": 3,
   "metadata": {},
   "outputs": [],
   "source": [
    "def plot_results(ax, test_mus, cls_obs, cls_exp, test_size=0.05):\n",
    "    ax.plot(mu_tests, cls_obs, c = 'k')\n",
    "    for i,c in zip(range(5),['k','k','k','k','k']):\n",
    "        ax.plot(mu_tests, cls_exp[i], c = c, linestyle = 'dotted' if i!=2 else 'dashed')\n",
    "    ax.fill_between(test_mus,cls_exp[0],cls_exp[-1], facecolor = 'y')\n",
    "    ax.fill_between(test_mus,cls_exp[1],cls_exp[-2], facecolor = 'g')\n",
    "    ax.plot(test_mus,[test_size]*len(test_mus), c = 'r')\n",
    "    ax.set_ylim(0,1)"
   ]
  },
  {
   "cell_type": "code",
   "execution_count": 4,
   "metadata": {},
   "outputs": [],
   "source": [
    "def invert_interval(test_mus, cls_obs, cls_exp, test_size=0.05):\n",
    "    crossing_test_stats = {'exp': [], 'obs': None}\n",
    "    for cls_exp_sigma in cls_exp:\n",
    "        crossing_test_stats['exp'].append(\n",
    "            np.interp(\n",
    "                test_size, list(reversed(cls_exp_sigma)), list(reversed(test_mus))\n",
    "            )\n",
    "        )\n",
    "    crossing_test_stats['obs'] = np.interp(\n",
    "        test_size, list(reversed(cls_obs)), list(reversed(test_mus))\n",
    "    )\n",
    "    return crossing_test_stats"
   ]
  },
  {
   "cell_type": "code",
   "execution_count": null,
   "metadata": {},
   "outputs": [],
   "source": [
    "mu_tests = np.linspace(0, 1, 16)\n",
    "hypo_tests = [pyhf.utils.hypotest(mu, data, pdf, pdf.config.suggested_init(), pdf.config.suggested_bounds(),\n",
    "                                 return_expected_set=True, return_test_statistics=True)\n",
    "              for mu in mu_tests]\n",
    "\n",
    "test_stats = np.array([test[-1][0] for test in hypo_tests]).flatten()\n",
    "cls_obs = np.array([test[0] for test in hypo_tests]).flatten()\n",
    "cls_exp = [np.array([test[1][i] for test in hypo_tests]).flatten() for i in range(5)]"
   ]
  },
  {
   "cell_type": "code",
   "execution_count": null,
   "metadata": {},
   "outputs": [],
   "source": [
    "fig, (ax1,ax2) = plt.subplots(1, 2)\n",
    "fig.set_size_inches(15, 5)\n",
    "\n",
    "ax1.set_title(u'Hypothesis Tests')\n",
    "ax1.set_ylabel(u'CLs')\n",
    "ax1.set_xlabel(u'µ')\n",
    "plot_results(ax1, mu_tests, cls_obs, cls_exp)\n",
    "\n",
    "\n",
    "ax2.set_title(u'Test Statistic')\n",
    "ax2.set_xlabel(u'µ')\n",
    "ax2.plot(mu_tests,test_stats);"
   ]
  },
  {
   "cell_type": "code",
   "execution_count": null,
   "metadata": {},
   "outputs": [],
   "source": [
    "results = invert_interval(mu_tests, cls_obs, cls_exp)\n",
    "\n",
    "print('Observed Limit: {:.2f}'.format(results['obs']))\n",
    "print('-----')\n",
    "for i, n_sigma in enumerate(np.arange(-2,3)):\n",
    "    print('Expected Limit{}: {:.3f}'.format('' if n_sigma==0 else '({} σ)'.format(n_sigma),results['exp'][i]))"
   ]
  }
 ],
 "metadata": {
  "kernelspec": {
   "display_name": "Python 3",
   "language": "python",
   "name": "python3"
  },
  "language_info": {
   "codemirror_mode": {
    "name": "ipython",
    "version": 3
   },
   "file_extension": ".py",
   "mimetype": "text/x-python",
   "name": "python",
   "nbconvert_exporter": "python",
   "pygments_lexer": "ipython3",
   "version": "3.7.3"
  }
 },
 "nbformat": 4,
 "nbformat_minor": 4
}
